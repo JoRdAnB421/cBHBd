{
 "cells": [
  {
   "cell_type": "code",
   "execution_count": null,
   "metadata": {},
   "outputs": [],
   "source": [
    "import pandas as pd; import numpy as np\n",
    "import matplotlib.pyplot as plt; import matplotlib.cm as cm\n",
    "import os\n",
    "from matplotlib.legend import Legend, Line2D\n",
    "\n",
    "plt.rcParams.update({'font.size': 14}) # Set a good font size\n"
   ]
  },
  {
   "cell_type": "code",
   "execution_count": null,
   "metadata": {},
   "outputs": [],
   "source": [
    "head = ['mergertime', 'simtime', 'm1', 'm2', 'e', 'Mcl',\n",
    "        'mergetype', 'tlbform', 'rh', 'vk', 'vesc', 'chi_f',\n",
    "        's1', 's2', 'Z', 'a', 'genmerge', 'mbh']\n",
    "\n",
    "\n",
    "files = os.listdir('runs') # Find the data files\n",
    "\n",
    "data = pd.read_csv(os.path.join('runs', files[0]), delimiter='\\t', names=head)\n",
    "\n",
    "# Grab the cluster masses and metallicities and find the unique values\n",
    "Mcls = data['Mcl'].values\n",
    "metals = data['Z'].values\n",
    "\n",
    "Mcluni = np.unique(Mcls); metaluni = np.unique(metals).round(5)\n",
    "print(metaluni)\n",
    "\n",
    "metalUnitest = np.array([metals[0],0.001,0.01])\n",
    "\n",
    "# Oldest time\n",
    "tlb = 13315470519.21035"
   ]
  },
  {
   "cell_type": "code",
   "execution_count": null,
   "metadata": {},
   "outputs": [],
   "source": [
    "data.loc[np.isin(data['Z'].values.round(5), metalUnitest)]\n",
    "\n",
    "data.loc[2977, 'tlbform']"
   ]
  },
  {
   "cell_type": "markdown",
   "metadata": {},
   "source": [
    "Here we split only by cluster mass and so we then find the total number of mergers for a given cluster over the whole range of metallicities and birth time"
   ]
  },
  {
   "cell_type": "code",
   "execution_count": null,
   "metadata": {},
   "outputs": [],
   "source": [
    "files = os.listdir('runs') # Find the data files\n",
    "\n",
    "data = [pd.read_csv(os.path.join('runs', file), delimiter='\\t', names=head) for file in files] # Load all files\n",
    "\n",
    "Mcl = {int(mcl): [] for mcl in Mcluni} # dictionary for mass values\n",
    "\n",
    "# Loop through and find total number of mergers for each\n",
    "for d in data:\n",
    "    # Unique redshift times\n",
    "    for mcl in Mcl.keys():\n",
    "        # Only megrers in this cluster within Ht\n",
    "        tmp = d.loc[(d['Mcl']==mcl)&(d['mergertime']<=14e9)&(d['simtime']<=1e9)]\n",
    "        # Find ejected and incluster mergers\n",
    "        if len(tmp)!=0:\n",
    "            ejec = np.sum(tmp['mergetype']=='ejected')\n",
    "            incl = np.sum(tmp['mergetype']!='ejected')\n",
    "\n",
    "            Mcl[mcl].append([ejec, incl, len(tmp)])\n",
    "\n",
    "for mcl in Mcl.keys(): Mcl[mcl] = np.asarray(Mcl[mcl])\n",
    "\n",
    "fig, ax = plt.subplots(figsize=(8,6))\n",
    "\n",
    "for i, (key, item) in enumerate(Mcl.items()):\n",
    "\n",
    "    # Plot mean and errors\n",
    "    ax.errorbar(key, np.mean(item[:,1]/item[:,-1]), np.std(item[:,1]/item[:,-1]), marker='x', markersize=10, label=key, color='C'+str(i))\n",
    "    # ax.scatter(key, np.mean(item[:,-1]), marker='x', color='black')\n",
    "\n",
    "####### PETAR DATA ##########\n",
    "petar = [np.array([[0,2,2],[0,1,1],[0,1,1]]), np.array([[1,2,3],[0,1,1],[0,3,3]]), np.array([[1,6,7],[0,7,7],[0,6,6]])]\n",
    "\n",
    "for i, p in enumerate(petar):\n",
    "    ax.scatter(Mcluni[i], sum(p[:,1])/sum(p[:,-1]), color='C'+str(i))\n",
    "    # ax.scatter(Mcluni[::-1][i], sum(p[:,-1]), color='black')\n",
    "ax.set_xlabel('Mcl')\n",
    "ax.set_ylabel('$N_{\\mathrm{incl}}/N_{\\mathrm{tot}}$')\n",
    "\n",
    "hand = [Line2D([0,0],[0,0], color='tab:blue', marker='o', markersize=5, lw=0),\n",
    "        Line2D([0,0],[0,0], color='tab:blue', marker='x', markersize=10, lw=0)]\n",
    "leg = Legend(ax, hand, labels=['PeTar Data', 'cBHBd'], ncols=2, loc='upper center')\n",
    "ax.add_artist(leg)\n",
    "# ax.set_yscale('log')\n",
    "\n",
    "# ax.legend()\n"
   ]
  },
  {
   "cell_type": "markdown",
   "metadata": {},
   "source": [
    "The above plot shows the PeTar data compared to the cBHBd data.\n",
    "\n",
    "* Specifically the cBHBd data is run for the same cluster masses and across a grid of metallicities/redshifts. The PeTar data is only across metallicities [Z=0.01 -> Z=0.0001] and does not account for redshifts.\n",
    "* The Error bars on the cBHBd data comes from running many simulations of the same clusters over the same grids, ~140 different seeds.\n",
    "\n"
   ]
  },
  {
   "cell_type": "markdown",
   "metadata": {},
   "source": [
    "Below we split it up into every individual cluster (sectioning by metallicity, birth time and cluster mass)"
   ]
  },
  {
   "cell_type": "code",
   "execution_count": null,
   "metadata": {},
   "outputs": [],
   "source": [
    "files = os.listdir('runs') # Find the data files\n",
    "\n",
    "data = [pd.read_csv(os.path.join('runs', file), delimiter='\\t', names=head) for file in files] # Load all files\n",
    "\n",
    "Mcl = {int(mcl): [] for mcl in Mcluni} # dictionary for mass values\n",
    "\n",
    "# Loop through and find total number of mergers for each\n",
    "for d in data:\n",
    "    # Unique redshift times\n",
    "    tlbuni = np.unique(d['tlbform'].values)\n",
    "    for mcl in Mcl.keys():\n",
    "        for metal in metaluni:\n",
    "            for tlb in tlbuni:\n",
    "                # Only megrers in this cluster within Ht\n",
    "                tmp = d.loc[(d['Mcl']==mcl)&(d['Z']==metal)&(d['tlbform']==tlb)&(d['mergertime']<=14e9)]\n",
    "\n",
    "                # Find ejected and incluster mergers\n",
    "                if len(tmp)!=0:\n",
    "                    ejec = sum(tmp['mergetype']=='ejected')/len(tmp)\n",
    "                    incl = sum(tmp['mergetype']!='ejected')/len(tmp)\n",
    "\n",
    "                    Mcl[mcl].append([ejec, incl, len(tmp)])\n",
    "\n",
    "for mcl in Mcl.keys(): Mcl[mcl] = np.asarray(Mcl[mcl])\n",
    "\n",
    "fig, ax = plt.subplots(figsize=(8,6))\n",
    "\n",
    "for key, item in Mcl.items():\n",
    "    # Plot mean and errors\n",
    "    ax.errorbar(np.mean(item[:,0]), np.mean(item[:,1]), \n",
    "                np.std(item[:,0]), np.std(item[:,1]), marker='x', markersize=10, label=key)\n",
    "\n",
    "ax.set_xlabel('$N_{\\mathrm{ej}}/N_{\\mathrm{tot}}$')\n",
    "ax.set_ylabel('$N_{\\mathrm{incl}}/N_{\\mathrm{tot}}$')\n",
    "\n",
    "ax.legend()\n"
   ]
  },
  {
   "cell_type": "markdown",
   "metadata": {},
   "source": [
    "Above plot is across every metallicity bin"
   ]
  },
  {
   "cell_type": "code",
   "execution_count": null,
   "metadata": {},
   "outputs": [],
   "source": [
    "fig, ax = plt.subplots(figsize=(8,6))\n",
    "\n",
    "norm = plt.Normalize(min(metaluni), max(metaluni))\n",
    "\n",
    "for mcl in Mcluni:\n",
    "    # print(mcl)\n",
    "    for metal in metaluni:\n",
    "        tmp = data.loc[(data['Mcl']==mcl)&(data['Z']==metal)&(data['mergertime']<=14e9)]    \n",
    "\n",
    "        # print(len(tmp))\n",
    "        color=cm.viridis(norm(metal))\n",
    "        try:\n",
    "            ax.scatter(mcl, sum(tmp['mergetype']=='ejected')/len(tmp), color=color)\n",
    "        except:\n",
    "            continue\n",
    "\n",
    "fig.colorbar(cm.ScalarMappable(norm=norm, cmap='viridis'))\n",
    "\n",
    "ax.set_xlabel('Cluster mass [$M_{cl}$]')\n",
    "ax.set_ylabel('$N_{ej}/N_{tot}$')\n",
    "\n",
    "\n",
    "print(max(data['simtime'])/1e6)"
   ]
  },
  {
   "cell_type": "code",
   "execution_count": null,
   "metadata": {},
   "outputs": [],
   "source": []
  }
 ],
 "metadata": {
  "kernelspec": {
   "display_name": "base",
   "language": "python",
   "name": "python3"
  },
  "language_info": {
   "codemirror_mode": {
    "name": "ipython",
    "version": 3
   },
   "file_extension": ".py",
   "mimetype": "text/x-python",
   "name": "python",
   "nbconvert_exporter": "python",
   "pygments_lexer": "ipython3",
   "version": "3.8.18"
  }
 },
 "nbformat": 4,
 "nbformat_minor": 2
}
